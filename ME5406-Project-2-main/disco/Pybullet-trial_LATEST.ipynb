{
 "cells": [
  {
   "cell_type": "code",
   "execution_count": 1,
   "metadata": {},
   "outputs": [],
   "source": [
    "import os\n",
    "import time\n",
    "import pdb\n",
    "import pybullet as p\n",
    "import pybullet_data\n",
    "from collections import deque\n",
    "import numpy as np\n",
    "from time import sleep"
   ]
  },
  {
   "cell_type": "code",
   "execution_count": 2,
   "metadata": {},
   "outputs": [],
   "source": [
    "serverMode = p.GUI \n",
    "discoUrdfPath = \"./urdf/disco.urdf\" #WE PUT OUR GUYS PATH\n",
    "pianoUrdfPath = \"./piano/urdf/piano.urdf\""
   ]
  },
  {
   "cell_type": "code",
   "execution_count": 3,
   "metadata": {},
   "outputs": [
    {
     "name": "stdout",
     "output_type": "stream",
     "text": [
      "----------------------------------------\n",
      "Loading robot from ./urdf/disco.urdf\n"
     ]
    }
   ],
   "source": [
    "physicsClient = p.connect(serverMode)\n",
    "\n",
    "p.setAdditionalSearchPath(pybullet_data.getDataPath())\n",
    "\n",
    "\n",
    "#p.setGravity(0,0,-10) \n",
    "planeID = p.loadURDF(\"plane.urdf\")\n",
    "\n",
    "\n",
    "robotStartPos = [0,-0.5,0]\n",
    "robotStartOrn = p.getQuaternionFromEuler([0,0,0])\n",
    "pianoStartPos = [0, 0, 0]\n",
    "pianoStartOrn= p.getQuaternionFromEuler([0, 0, 0])\n",
    "print(\"----------------------------------------\")\n",
    "print(\"Loading robot from {}\".format(discoUrdfPath)) #PUT OUR GUYS PATH\n",
    "robotID = p.loadURDF(discoUrdfPath, robotStartPos, globalScaling=10) #flags=p.URDF_USE_INERTIA_FROM_FILE     \n",
    "pianoID= p.loadURDF(pianoUrdfPath, pianoStartPos, globalScaling= 5)\n"
   ]
  },
  {
   "cell_type": "code",
   "execution_count": 4,
   "metadata": {},
   "outputs": [
    {
     "name": "stdout",
     "output_type": "stream",
     "text": [
      "0\n",
      "1\n",
      "2\n",
      "3\n",
      "4\n",
      "5\n",
      "6\n",
      "7\n",
      "8\n",
      "9\n"
     ]
    }
   ],
   "source": [
    "\n",
    "#p.setGravity(0, 0, 0, physicsClientId=physicsClient) \n",
    "\n",
    "angle= 0.1\n",
    "for i in range(10): \n",
    "    p.stepSimulation()\n",
    "    joint =0\n",
    "    p.resetJointState(robotID,joint, angle)\n",
    "    angle= angle+0.2\n",
    "    sleep(1)\n",
    "    print(i)"
   ]
  },
  {
   "cell_type": "code",
   "execution_count": null,
   "metadata": {},
   "outputs": [],
   "source": []
  }
 ],
 "metadata": {
  "kernelspec": {
   "display_name": "Python 3",
   "language": "python",
   "name": "python3"
  },
  "language_info": {
   "codemirror_mode": {
    "name": "ipython",
    "version": 3
   },
   "file_extension": ".py",
   "mimetype": "text/x-python",
   "name": "python",
   "nbconvert_exporter": "python",
   "pygments_lexer": "ipython3",
   "version": "3.9.0"
  }
 },
 "nbformat": 4,
 "nbformat_minor": 4
}
