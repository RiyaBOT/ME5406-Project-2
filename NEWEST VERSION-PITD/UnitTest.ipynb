{
 "cells": [
  {
   "cell_type": "code",
   "execution_count": 12,
   "metadata": {},
   "outputs": [],
   "source": [
    "import unittest\n",
    "from ipynb.fs.full.Enniwf import *\n",
    "# WE NEED TO CHANGE IT SO THAT WE HAVE AN IMPORT STATMENT LIKE import sapp_gym as SAPP_Env\n",
    "import numpy as np"
   ]
  },
  {
   "cell_type": "code",
   "execution_count": 13,
   "metadata": {},
   "outputs": [],
   "source": [
    "num_agents1=1\n",
    "#define position of the piano key.\n",
    "num_agents2=1\n",
    "#define position of the piano key"
   ]
  },
  {
   "cell_type": "code",
   "execution_count": 14,
   "metadata": {},
   "outputs": [],
   "source": [
    "#action list{}\n",
    "FULL_HELP= False\n"
   ]
  },
  {
   "cell_type": "code",
   "execution_count": 18,
   "metadata": {},
   "outputs": [],
   "source": [
    "class PTIDTests(unittest.TestCase):\n",
    "    #def test_valid_action0(self):\n",
    "        #be able to create a world and assert equal\n",
    "        # into 2 for each\n",
    "    def test_valid_action1(self):#I have no idea what I am doing here\n",
    "        panicenv2= PanicEnv()\n",
    "        s0= panicenv2.getFinalPos()\n",
    "        s1, r, d, x= panicenv2.step([0, 0])\n",
    "        s2= panicenv2.getFinalPos()\n",
    "        print(panicenv2.getReward())\n",
    "        print(r)\n",
    "        print(self.assertEqual(r, panicenv2.getReward()))# figure out why this is not working\n",
    "        \n",
    "        \n",
    "\n",
    "    \n",
    "    \n",
    "        \n",
    "        "
   ]
  },
  {
   "cell_type": "markdown",
   "metadata": {},
   "source": [
    " def test_valid_action2(self):\n",
    "    def test_valid_action3(self):\n",
    "    def test_valid_action4(self):\n",
    "    def test_list_of_valid_actions_1(self):\n",
    "    def test_list_of_valid_actions_2(self):\n",
    "    "
   ]
  },
  {
   "cell_type": "code",
   "execution_count": 19,
   "metadata": {},
   "outputs": [
    {
     "name": "stdout",
     "output_type": "stream",
     "text": [
      "0\n",
      "0\n",
      "None\n"
     ]
    }
   ],
   "source": [
    "test= PTIDTests()\n",
    "test.test_valid_action1()"
   ]
  },
  {
   "cell_type": "code",
   "execution_count": null,
   "metadata": {},
   "outputs": [],
   "source": [
    "#try a unit test case where you know the position of the key and how many angle turns\n",
    "#try another to make sure different theta\n"
   ]
  }
 ],
 "metadata": {
  "kernelspec": {
   "display_name": "Python 3",
   "language": "python",
   "name": "python3"
  },
  "language_info": {
   "codemirror_mode": {
    "name": "ipython",
    "version": 3
   },
   "file_extension": ".py",
   "mimetype": "text/x-python",
   "name": "python",
   "nbconvert_exporter": "python",
   "pygments_lexer": "ipython3",
   "version": "3.9.0"
  }
 },
 "nbformat": 4,
 "nbformat_minor": 4
}
