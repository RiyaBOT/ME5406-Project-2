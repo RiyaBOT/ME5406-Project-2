{
 "cells": [
  {
   "cell_type": "code",
   "execution_count": 1,
   "metadata": {},
   "outputs": [],
   "source": [
    "import numpy as np\n",
    "import pyglet\n",
    "import gym\n",
    "from gym import spaces\n",
    "from gym.spaces import MultiDiscrete\n",
    "import random\n",
    "import math\n",
    "import importlib"
   ]
  },
  {
   "cell_type": "code",
   "execution_count": 2,
   "metadata": {},
   "outputs": [],
   "source": [
    "# lengths of the links change as you please :)))) \n",
    "l1 = 100\n",
    "l2 = 100\n",
    "\n",
    "piano_len = 50\n",
    "piano_wid = 10\n",
    "\n",
    "# random pos for piano key to test step() \n",
    "key_x_start = 500\n",
    "key_x_end   = 550\n",
    "key_y_start = 50\n",
    "key_y_end   = 60\n",
    "\n",
    "# Actions\n",
    "# 0 = +1 degree\n",
    "# 1 = -1 degree\n",
    "origin_pos_x=10\n",
    "origin_pos_y=10\n",
    "link1_pos_x= 0\n",
    "link1_pos_y= 0\n",
    "final_pos_y= 25\n",
    "final_pos_x= 25"
   ]
  },
  {
   "cell_type": "code",
   "execution_count": 3,
   "metadata": {},
   "outputs": [],
   "source": [
    "class PanicEnv(gym.Env):\n",
    "    \n",
    "    metadata = {'render.modes': ['human', 'rgb_array']}  # i think rgb array is needed to render, if not then remove\n",
    "    \n",
    "    #grid, goal_x, goal_y_start, goal_y_end = set_piano(size, piano_size)\n",
    "    \n",
    "    def __init__(self):\n",
    "        super(PanicEnv, self).__init__()\n",
    "        self.reward_range = (-0.1, 1)                         # can change to whatever\n",
    "        self.action_space = spaces.MultiDiscrete([2,2])     # Action space - increment or decrement the angles by 1\n",
    "        self.observation_space = spaces.MultiDiscrete([180,180])   # Observation space - angles of theta1 and theta2 (180*180??)\n",
    "\n",
    "        # storing current angles - random initialisation\n",
    "        a, b = 45, 45\n",
    "        self.curr_angles = (a, b)\n",
    "        \n",
    "    def step(self, action):\n",
    "        done = False\n",
    "        reward = 0\n",
    "        \n",
    "        state = self.curr_angles\n",
    "        theta1, theta2 = self.curr_angles\n",
    "        (a1, a2) = action\n",
    "        if (a1, a2) == (0, 0):\n",
    "            theta1 += 1\n",
    "            theta2 += 1\n",
    "        elif (a1, a2) == (0, 1):\n",
    "            theta1 += 1\n",
    "            theta2 -= 1\n",
    "        elif (a1, a2) == (1, 0):\n",
    "            theta1 -= 1\n",
    "            theta2 += 1\n",
    "        elif (a1, a2) == (1, 1):\n",
    "            theta1 -= 1\n",
    "            theta2 -= 1\n",
    "        \n",
    "        # Convert to radians for calculations\n",
    "        th1 = math.radians(theta1)\n",
    "        th2 = math.radians(180 - theta2)\n",
    "        \n",
    "        ## !!!! All calculations are assuming the origin is at the start of link 1 !!!!! (change acc to render design)\n",
    "        link1_pos = np.array([l1*np.sin(th1), l1 * np.cos(th1)])\n",
    "        link1_pos_x= l1*np.sin(th1)\n",
    "        link1_pos_y= l1 * np.cos(th1)\n",
    "        final_pos = link1_pos + (np.array([(l2*np.cos(th2)) * np.sin(th1), (l2*np.cos(th2)) * np.cos(th1)]))\n",
    "        final_pos_x= (l2*np.cos(th2)) * np.sin(th1)\n",
    "        final_pos_y= (l2*np.cos(th2)) * np.cos(th1)\n",
    "        self.curr_angles = theta1, theta2\n",
    "        obs = self.curr_angles\n",
    "        \n",
    "        # Get reward and check if done  - change reward structure later\n",
    "        if (final_pos[0] > key_x_start and final_pos[0] < key_x_end):\n",
    "            # get some reward?\n",
    "\n",
    "            if (final_pos[1] > key_y_start and final_pos[1] < key_y_end):\n",
    "                reward = 1\n",
    "                done = True\n",
    "\n",
    "        return obs, reward, done, final_pos\n",
    "\n",
    "    def reset(self):\n",
    "        #define reset when theta1 = 45 deg and theta2 = 90 deg(somewhere in the default position that we always draw)\n",
    "        self.curr_angles = (45, 90)\n",
    "        return self.curr_angles\n",
    "        \n",
    "    def render(self):  \n",
    "        \n",
    "        pass\n",
    "      \n",
    "        \n",
    "env = PanicEnv()"
   ]
  },
  {
   "cell_type": "code",
   "execution_count": 4,
   "metadata": {},
   "outputs": [
    {
     "name": "stdout",
     "output_type": "stream",
     "text": [
      "----------------------------------------\n",
      "Loading robot from ./finaldisco/urdf/finaldisco.urdf\n",
      "[0 0]\n"
     ]
    },
    {
     "ename": "TypeError",
     "evalue": "function missing required argument 'jointIndex' (pos 2)",
     "output_type": "error",
     "traceback": [
      "\u001b[0;31m---------------------------------------------------------------------------\u001b[0m",
      "\u001b[0;31mTypeError\u001b[0m                                 Traceback (most recent call last)",
      "\u001b[0;32m<ipython-input-4-d162414e1794>\u001b[0m in \u001b[0;36m<module>\u001b[0;34m\u001b[0m\n\u001b[1;32m      9\u001b[0m     \u001b[0mprint\u001b[0m\u001b[0;34m(\u001b[0m\u001b[0maction\u001b[0m\u001b[0;34m)\u001b[0m\u001b[0;34m\u001b[0m\u001b[0;34m\u001b[0m\u001b[0m\n\u001b[1;32m     10\u001b[0m     \u001b[0mnext_state\u001b[0m\u001b[0;34m,\u001b[0m \u001b[0mreward\u001b[0m\u001b[0;34m,\u001b[0m \u001b[0mdone\u001b[0m\u001b[0;34m,\u001b[0m \u001b[0mfinal_position\u001b[0m \u001b[0;34m=\u001b[0m \u001b[0menv\u001b[0m\u001b[0;34m.\u001b[0m\u001b[0mstep\u001b[0m\u001b[0;34m(\u001b[0m\u001b[0maction\u001b[0m\u001b[0;34m)\u001b[0m \u001b[0;31m# next_state = angles at next state\u001b[0m\u001b[0;34m\u001b[0m\u001b[0;34m\u001b[0m\u001b[0m\n\u001b[0;32m---> 11\u001b[0;31m     \u001b[0mmoveactionlink1\u001b[0m\u001b[0;34m(\u001b[0m\u001b[0mnext_state\u001b[0m\u001b[0;34m[\u001b[0m\u001b[0;36m0\u001b[0m\u001b[0;34m]\u001b[0m\u001b[0;34m)\u001b[0m\u001b[0;34m\u001b[0m\u001b[0;34m\u001b[0m\u001b[0m\n\u001b[0m\u001b[1;32m     12\u001b[0m     \u001b[0mmoveactionlink2\u001b[0m\u001b[0;34m(\u001b[0m\u001b[0mnext_state\u001b[0m\u001b[0;34m[\u001b[0m\u001b[0;36m1\u001b[0m\u001b[0;34m]\u001b[0m\u001b[0;34m)\u001b[0m\u001b[0;34m\u001b[0m\u001b[0;34m\u001b[0m\u001b[0m\n\u001b[1;32m     13\u001b[0m     \u001b[0mprint\u001b[0m\u001b[0;34m(\u001b[0m\u001b[0mnext_state\u001b[0m\u001b[0;34m,\u001b[0m \u001b[0mreward\u001b[0m\u001b[0;34m,\u001b[0m \u001b[0mdone\u001b[0m\u001b[0;34m,\u001b[0m \u001b[0mfinal_position\u001b[0m\u001b[0;34m)\u001b[0m\u001b[0;34m\u001b[0m\u001b[0;34m\u001b[0m\u001b[0m\n",
      "\u001b[0;32m~/Downloads/ME5406-Project-2-main 2/FingerMovingPybullet.ipynb\u001b[0m in \u001b[0;36mmoveactionlink1\u001b[0;34m(angle)\u001b[0m\n\u001b[1;32m     39\u001b[0m       \u001b[0;34m\"----------------------------------------\\n\"\u001b[0m\u001b[0;34m,\u001b[0m\u001b[0;34m\u001b[0m\u001b[0;34m\u001b[0m\u001b[0m\n\u001b[1;32m     40\u001b[0m       \u001b[0;34m\"Loading robot from ./finaldisco/urdf/finaldisco.urdf\\n\"\u001b[0m\u001b[0;34m\u001b[0m\u001b[0;34m\u001b[0m\u001b[0m\n\u001b[0;32m---> 41\u001b[0;31m      ]\n\u001b[0m\u001b[1;32m     42\u001b[0m     }\n\u001b[1;32m     43\u001b[0m    ],\n",
      "\u001b[0;31mTypeError\u001b[0m: function missing required argument 'jointIndex' (pos 2)"
     ]
    }
   ],
   "source": [
    "\n",
    "\n",
    "\n",
    "\n",
    "#moduleName = input('FingerMovingPybullet')\n",
    "#importlib.import_module(moduleName)\n",
    "\n",
    "from ipynb.fs.full.FingerMovingPybullet import moveactionlink1\n",
    "from ipynb.fs.full.FingerMovingPybullet import moveactionlink2\n",
    "\n",
    "for i in range(100):\n",
    "    action = env.action_space.sample()\n",
    "    print(action)\n",
    "    next_state, reward, done, final_position = env.step(action) # next_state = angles at next state\n",
    "    moveactionlink1(next_state[0])\n",
    "    moveactionlink2(next_state[1])\n",
    "    print(next_state, reward, done, final_position)"
   ]
  },
  {
   "cell_type": "code",
   "execution_count": null,
   "metadata": {},
   "outputs": [],
   "source": []
  }
 ],
 "metadata": {
  "kernelspec": {
   "display_name": "Python 3",
   "language": "python",
   "name": "python3"
  },
  "language_info": {
   "codemirror_mode": {
    "name": "ipython",
    "version": 3
   },
   "file_extension": ".py",
   "mimetype": "text/x-python",
   "name": "python",
   "nbconvert_exporter": "python",
   "pygments_lexer": "ipython3",
   "version": "3.9.0"
  }
 },
 "nbformat": 4,
 "nbformat_minor": 4
}
