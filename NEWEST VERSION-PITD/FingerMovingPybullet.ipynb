{
 "cells": [
  {
   "cell_type": "code",
   "execution_count": 1,
   "metadata": {},
   "outputs": [],
   "source": [
    "import os\n",
    "import time\n",
    "import pdb\n",
    "import pybullet as p\n",
    "import pybullet_data\n",
    "from collections import deque\n",
    "import numpy as np\n",
    "from time import sleep"
   ]
  },
  {
   "cell_type": "code",
   "execution_count": 2,
   "metadata": {},
   "outputs": [],
   "source": [
    "serverMode = p.GUI\n",
    "discoUrdfPath = \"./finaldisco/urdf/finaldisco.urdf\" #WE PUT OUR GUYS PATH\n",
    "pianoUrdfPath = \"./piano/urdf/piano.urdf\""
   ]
  },
  {
   "cell_type": "code",
   "execution_count": 3,
   "metadata": {},
   "outputs": [
    {
     "name": "stdout",
     "output_type": "stream",
     "text": [
      "----------------------------------------\n",
      "Loading robot from ./finaldisco/urdf/finaldisco.urdf\n"
     ]
    }
   ],
   "source": [
    "physicsClient = p.connect(serverMode)\n",
    "\n",
    "p.setAdditionalSearchPath(pybullet_data.getDataPath())\n",
    "\n",
    "\n",
    "#p.setGravity(0,0,-10) \n",
    "planeID = p.loadURDF(\"plane.urdf\")\n",
    "\n",
    "\n",
    "robotStartPos = [0,-0.5,0]\n",
    "robotStartOrn = p.getQuaternionFromEuler([0,0,0])\n",
    "\n",
    "pianoStartPos = [0.7, 0.7, 0.7]\n",
    "pianoStartOrn= p.getQuaternionFromEuler([0, 0, 0])\n",
    "print(\"----------------------------------------\")\n",
    "print(\"Loading robot from {}\".format(discoUrdfPath)) #PUT OUR GUYS PATH\n",
    "robotID = p.loadURDF(discoUrdfPath, robotStartPos, globalScaling=10) #flags=p.URDF_USE_INERTIA_FROM_FILE     \n",
    "pianoID= p.loadURDF(pianoUrdfPath, pianoStartPos, globalScaling= 5)"
   ]
  },
  {
   "cell_type": "code",
   "execution_count": 4,
   "metadata": {},
   "outputs": [],
   "source": [
    "def moveactionlink1(angle):\n",
    "    p.resetBasePositionAndOrientation(robotID, robotStartPos, robotStartOrn)\n",
    "    p.resetBasePositionAndOrientation(pianoID, pianoStartPos, pianoStartOrn)\n",
    "    p.stepSimulation()\n",
    "    p.resetJointState(robotID, 0, angle)\n",
    "    sleep(1)\n",
    "\n",
    "        \n",
    "def moveactionlink2(angle):\n",
    "    p.resetBasePositionAndOrientation(robotID, robotStartPos, robotStartOrn)\n",
    "    p.resetBasePositionAndOrientation(pianoID, pianoStartPos, pianoStartOrn)\n",
    "    p.stepSimulation()\n",
    "    p.resetJointState(robotID, 1, angle)\n",
    "    sleep(1)\n",
    "\n"
   ]
  },
  {
   "cell_type": "markdown",
   "metadata": {},
   "source": [
    " for i in range(10):\n",
    "        for j in range(2):\n",
    "            p.stepSimulation()\n",
    "        #joint = j\n",
    "            p.resetJointState(robotID, j, angle)\n",
    "            angle= angle-0.1\n",
    "            sleep(1)\n",
    "        #print(i)"
   ]
  },
  {
   "cell_type": "code",
   "execution_count": null,
   "metadata": {},
   "outputs": [],
   "source": []
  }
 ],
 "metadata": {
  "kernelspec": {
   "display_name": "Python 3",
   "language": "python",
   "name": "python3"
  },
  "language_info": {
   "codemirror_mode": {
    "name": "ipython",
    "version": 3
   },
   "file_extension": ".py",
   "mimetype": "text/x-python",
   "name": "python",
   "nbconvert_exporter": "python",
   "pygments_lexer": "ipython3",
   "version": "3.9.0"
  }
 },
 "nbformat": 4,
 "nbformat_minor": 4
}
