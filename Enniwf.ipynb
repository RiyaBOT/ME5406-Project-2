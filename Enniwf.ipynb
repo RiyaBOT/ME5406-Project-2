{
 "cells": [
  {
   "cell_type": "code",
   "execution_count": 11,
   "metadata": {},
   "outputs": [],
   "source": [
    "import numpy as np\n",
    "import pyglet\n",
    "import gym\n",
    "from gym import spaces\n",
    "from gym.spaces import MultiDiscrete\n",
    "import random\n",
    "import math\n",
    "import importlib\n",
    "import sympy as sym"
   ]
  },
  {
   "cell_type": "code",
   "execution_count": 6,
   "metadata": {},
   "outputs": [],
   "source": [
    "# lengths of the links change as you please :)))) \n",
    "\n",
    "#arbiarily define a space from where we can choose the pinao key positions\n",
    "space_x=1000\n",
    "space_y= 1000\n",
    "\n",
    "l1 = 100\n",
    "l2 = 100\n",
    "\n",
    "piano_len = 50\n",
    "piano_wid = 10\n",
    "\n",
    "# random pos for piano key to test step() \n",
    "key_x_start = 500\n",
    "key_x_end   = 550\n",
    "key_y_start = 50\n",
    "key_y_end   = 60\n",
    "\n",
    "\n",
    "#the key is always straight do you want to make it slanted also\n",
    "# Actions\n",
    "# 0 = +1 degree\n",
    "# 1 = -1 degree\n",
    "origin_pos_x=10\n",
    "origin_pos_y=10\n",
    "link1_pos_x= 0\n",
    "link1_pos_y= 0\n",
    "final_pos_y= 25\n",
    "final_pos_x= 25\n",
    "reward=0"
   ]
  },
  {
   "cell_type": "code",
   "execution_count": 7,
   "metadata": {},
   "outputs": [],
   "source": [
    "class PanicEnv(gym.Env):\n",
    "    reward=0\n",
    "    metadata = {'render.modes': ['human', 'rgb_array']}  # i think rgb array is needed to render, if not then remove\n",
    "   \n",
    "    #grid, goal_x, goal_y_start, goal_y_end = set_piano(size, piano_size)\n",
    "    \n",
    "    def __init__(self):\n",
    "        super(PanicEnv, self).__init__()\n",
    "        self.reward_range = (-0.1, 1)                         # can change to whatever\n",
    "        self.action_space = spaces.MultiDiscrete([2,2])     # Action space - increment or decrement the angles by 1\n",
    "        self.observation_space = spaces.MultiDiscrete([180,180])   # Observation space - angles of theta1 and theta2 (180*180??)\n",
    "\n",
    "        # storing current angles - random initialisation\n",
    "        a, b = 45, 45\n",
    "        self.curr_angles = (a, b)\n",
    "    \n",
    "    def create_random_map(self):\n",
    "        \n",
    "        #random number generator \n",
    "        key_x_start= randit(0, 950)\n",
    "        key_y_start= randit(0, 950)\n",
    "        key_x_end=  key_x_start+50\n",
    "        key_y_end= key_y_start+10\n",
    "        \n",
    "        \n",
    "        if checkvalidpos():\n",
    "            return\n",
    "        else:\n",
    "            create_random_map()\n",
    "        \n",
    "        \n",
    "        \n",
    "    def checkvalidpos(self): #should have parameters right otherwise will become much more confusing\n",
    "        \n",
    "        for theta1 in range(180):\n",
    "            #equationofcircle this assumes that second link can move 360 dgerees.\n",
    "            x, y= sym.symbols('x,y')\n",
    "            eq1= sym.Eq((x-link1_pos_x)**2 + (y-link1_pos_y)**2, 100)\n",
    "            slope= (key_y_end- key_y_start)/(key_x_end- key_x_start)\n",
    "            eq2= (slope*(x-key_x_start)+ key_y_start, y)\n",
    "            result= sym.solve([eq1, eq2], (x, y))\n",
    "            \n",
    "            if(result[0][0].is_real and result[0][1].is_real):\n",
    "                if(result[0][0]>key_x_start and result[0][0]<key_x_end):\n",
    "                    if(result[0][1]>key_y_start and result[0][1]<key_y_end):\n",
    "                        return true\n",
    "                    \n",
    "            if(result[1][0].is_real and result[1][1].is_real):\n",
    "                if(result[1][0]>key_x_start and result[1][0]<key_x_end):\n",
    "                    if(result[1][1]>key_y_start and result[1][1]<key_y_end):\n",
    "                        return true\n",
    "                    \n",
    "        return false\n",
    "            \n",
    "            \n",
    "            \n",
    "            \n",
    "            #checkinteresection\n",
    "        \n",
    "        \n",
    "        \n",
    "    def step(self, action):\n",
    "        done = False\n",
    "        \n",
    "        \n",
    "        state = self.curr_angles\n",
    "        theta1, theta2 = self.curr_angles\n",
    "        (a1, a2) = action\n",
    "        if (a1, a2) == (0, 0):\n",
    "            theta1 += 1\n",
    "            theta2 += 1\n",
    "        elif (a1, a2) == (0, 1):\n",
    "            theta1 += 1\n",
    "            theta2 -= 1\n",
    "        elif (a1, a2) == (1, 0):\n",
    "            theta1 -= 1\n",
    "            theta2 += 1\n",
    "        elif (a1, a2) == (1, 1):\n",
    "            theta1 -= 1\n",
    "            theta2 -= 1\n",
    "        \n",
    "        # Convert to radians for calculations\n",
    "        th1 = math.radians(theta1)\n",
    "        th2 = math.radians(180 - theta2)\n",
    "        \n",
    "        ## !!!! All calculations are assuming the origin is at the start of link 1 !!!!! (change acc to render design)\n",
    "        link1_pos = np.array([l1*np.sin(th1), l1 * np.cos(th1)])\n",
    "        link1_pos_x= l1*np.sin(th1)\n",
    "        link1_pos_y= l1 * np.cos(th1)\n",
    "        final_pos = link1_pos + (np.array([(l2*np.cos(th2)) * np.sin(th1), (l2*np.cos(th2)) * np.cos(th1)]))\n",
    "        final_pos_x= (l2*np.cos(th2)) * np.sin(th1)\n",
    "        final_pos_y= (l2*np.cos(th2)) * np.cos(th1)\n",
    "        self.curr_angles = theta1, theta2\n",
    "        obs = self.curr_angles\n",
    "        # Get reward and check if done  - change reward structure later\n",
    "        if (final_pos[0] > key_x_start and final_pos[0] < key_x_end):\n",
    "            # get some reward?\n",
    "\n",
    "            if (final_pos[1] > key_y_start and final_pos[1] < key_y_end):\n",
    "                reward= 1\n",
    "                done = True\n",
    "\n",
    "        return obs, reward, done, final_pos\n",
    "\n",
    "    def reset(self):\n",
    "        #define reset when theta1 = 45 deg and theta2 = 90 deg(somewhere in the default position that we always draw)\n",
    "        self.curr_angles = (45, 90)\n",
    "        return self.curr_angles\n",
    "        \n",
    "    def render(self):  \n",
    "        #should connect to the fingermovingpybullet thing\n",
    "        pass\n",
    "    \"\"\"\n",
    "    def getFinalPos(self):\n",
    "        return final_pos_x, final_pos_y\n",
    "    \n",
    "    def getPos(self):\n",
    "    \n",
    "    \n",
    "    def getReward(self):\n",
    "        return reward\n",
    "        \n",
    "    \n",
    "    def getdistancefrompiano(self):\n",
    "        \n",
    "    def observation(self):\n",
    "    \n",
    "    def getaction (self):\n",
    "    \"\"\"\n",
    "    \n",
    "        \n",
    "        \n",
    "        \n",
    "        \n",
    "      \n",
    "    \n",
    "env = PanicEnv()"
   ]
  },
  {
   "cell_type": "markdown",
   "metadata": {},
   "source": [
    "\n",
    "\n",
    "\n",
    "\n",
    "#moduleName = input('FingerMovingPybullet')\n",
    "#importlib.import_module(moduleName)\n",
    "\n",
    "from ipynb.fs.full.FingerMovingPybullet import moveactionlink1\n",
    "from ipynb.fs.full.FingerMovingPybullet import moveactionlink2\n",
    "\n",
    "for i in range(100):\n",
    "    action = env.action_space.sample()\n",
    "    print(action)\n",
    "    next_state, reward, done, final_position = env.step(action) # next_state = angles at next state\n",
    "    moveactionlink1(next_state[0])\n",
    "    moveactionlink2(next_state[1])\n",
    "    print(next_state, reward, done, final_position)"
   ]
  },
  {
   "cell_type": "code",
   "execution_count": 8,
   "metadata": {},
   "outputs": [],
   "source": [
    "#methods getnextvalidaction\n",
    "#getting fucntions?\n",
    "#okay so guillame has two classes one class called state and the other called gym"
   ]
  },
  {
   "cell_type": "markdown",
   "metadata": {},
   "source": [
    "finish the environment and the unittestcase\n",
    "action\n"
   ]
  },
  {
   "cell_type": "markdown",
   "metadata": {},
   "source": [
    "def getnextvalidaction(self):\n",
    "        available_actions= []\n",
    "        if (theta1!= 180):\n",
    "        if (theta2!=180):\n",
    "        if (theta1 !=0):\n",
    "        if (theta2!=0):"
   ]
  },
  {
   "cell_type": "code",
   "execution_count": 14,
   "metadata": {},
   "outputs": [
    {
     "name": "stdout",
     "output_type": "stream",
     "text": [
      "Eq((x - 25)**2 + (y - 25)**2, 100)\n"
     ]
    }
   ],
   "source": [
    "x, y= sym.symbols('x,y')\n",
    "eq1= sym.Eq((x-25)**2 + (y-25)**2, 100)\n",
    "eq2= sym.Eq(x+ 2*y, 50)\n",
    "print(eq1)"
   ]
  },
  {
   "cell_type": "code",
   "execution_count": 15,
   "metadata": {},
   "outputs": [],
   "source": [
    "result= sym.solve([eq1, eq2], (x, y))"
   ]
  },
  {
   "cell_type": "code",
   "execution_count": 16,
   "metadata": {},
   "outputs": [
    {
     "data": {
      "text/plain": [
       "[(20 - 2*sqrt(5)*I, 15 + sqrt(5)*I), (20 + 2*sqrt(5)*I, 15 - sqrt(5)*I)]"
      ]
     },
     "execution_count": 16,
     "metadata": {},
     "output_type": "execute_result"
    }
   ],
   "source": [
    "result"
   ]
  },
  {
   "cell_type": "code",
   "execution_count": 18,
   "metadata": {},
   "outputs": [
    {
     "data": {
      "text/latex": [
       "$\\displaystyle 20 - 2 \\sqrt{5} i$"
      ],
      "text/plain": [
       "20 - 2*sqrt(5)*I"
      ]
     },
     "execution_count": 18,
     "metadata": {},
     "output_type": "execute_result"
    }
   ],
   "source": [
    "result[0][0]"
   ]
  },
  {
   "cell_type": "code",
   "execution_count": 22,
   "metadata": {},
   "outputs": [
    {
     "name": "stdout",
     "output_type": "stream",
     "text": [
      "k\n"
     ]
    }
   ],
   "source": [
    "if result[0][0].is_real:\n",
    "    print(\"l\")\n",
    "else:\n",
    "    print(\"k\")\n",
    "\n",
    "#if(result[0][0]>key_x_start and result[0][0]<key_x_end):\n",
    " #   print(\"okay\")"
   ]
  },
  {
   "cell_type": "code",
   "execution_count": null,
   "metadata": {},
   "outputs": [],
   "source": []
  }
 ],
 "metadata": {
  "kernelspec": {
   "display_name": "Python 3",
   "language": "python",
   "name": "python3"
  },
  "language_info": {
   "codemirror_mode": {
    "name": "ipython",
    "version": 3
   },
   "file_extension": ".py",
   "mimetype": "text/x-python",
   "name": "python",
   "nbconvert_exporter": "python",
   "pygments_lexer": "ipython3",
   "version": "3.9.0"
  }
 },
 "nbformat": 4,
 "nbformat_minor": 4
}
