{
 "cells": [
  {
   "cell_type": "code",
   "execution_count": 1,
   "metadata": {},
   "outputs": [],
   "source": [
    "import os\n",
    "import time\n",
    "import pdb\n",
    "import pybullet as p\n",
    "import pybullet_data\n",
    "from collections import deque\n",
    "import numpy as np"
   ]
  },
  {
   "cell_type": "code",
   "execution_count": 2,
   "metadata": {},
   "outputs": [],
   "source": [
    "serverMode = p.GUI \n",
    "discoUrdfPath = \"./urdf/disco.urdf\" #WE PUT OUR GUYS PATH"
   ]
  },
  {
   "cell_type": "code",
   "execution_count": 3,
   "metadata": {},
   "outputs": [
    {
     "name": "stdout",
     "output_type": "stream",
     "text": [
      "----------------------------------------\n",
      "Loading robot from ./urdf/disco.urdf\n"
     ]
    }
   ],
   "source": [
    "physicsClient = p.connect(serverMode)\n",
    "\n",
    "p.setAdditionalSearchPath(pybullet_data.getDataPath())\n",
    "\n",
    "\n",
    "#p.setGravity(0,0,-10) \n",
    "planeID = p.loadURDF(\"plane.urdf\")\n",
    "\n",
    "\n",
    "robotStartPos = [0,-0.5,0]\n",
    "robotStartOrn = p.getQuaternionFromEuler([0,0,0])\n",
    "print(\"----------------------------------------\")\n",
    "print(\"Loading robot from {}\".format(discoUrdfPath)) #PUT OUR GUYS PATH\n",
    "robotID = p.loadURDF(discoUrdfPath,globalScaling=10)# flags=p.URDF_USE_INERTIA_FROM_FILE       "
   ]
  },
  {
   "cell_type": "code",
   "execution_count": null,
   "metadata": {},
   "outputs": [],
   "source": []
  }
 ],
 "metadata": {
  "kernelspec": {
   "display_name": "Python 3",
   "language": "python",
   "name": "python3"
  },
  "language_info": {
   "codemirror_mode": {
    "name": "ipython",
    "version": 3
   },
   "file_extension": ".py",
   "mimetype": "text/x-python",
   "name": "python",
   "nbconvert_exporter": "python",
   "pygments_lexer": "ipython3",
   "version": "3.8.3"
  }
 },
 "nbformat": 4,
 "nbformat_minor": 4
}
